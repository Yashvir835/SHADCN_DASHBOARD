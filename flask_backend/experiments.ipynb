{
 "cells": [
  {
   "cell_type": "code",
   "execution_count": 3,
   "metadata": {},
   "outputs": [],
   "source": [
    "#Importing Required Packages.\n",
    "import cv2\n",
    "import pytesseract\n",
    "import re\n",
    "# import mysql.connector as mc\n",
    "\n",
    "class Aadhar_OCR:\n",
    "    def __init__(self, img_path):\n",
    "        self.user_aadhar_no = str()\n",
    "        self.user_gender = str()\n",
    "        self.user_dob = str()\n",
    "        self.user_name = str()\n",
    "\n",
    "        self.img_name = img_path\n",
    "    \n",
    "    def extract_data(self):\n",
    "        # Reading the image, extracting text from it, and storing the text into a list.\n",
    "        img = cv2.imread(self.img_name)\n",
    "        text = pytesseract.image_to_string(img)\n",
    "        all_text_list = re.split(r'[\\n]', text)\n",
    "        \n",
    "        # Process the text list to remove all whitespace elements in the list.\n",
    "        text_list = list()\n",
    "        for i in all_text_list:\n",
    "            if re.match(r'^(\\s)+$', i) or i=='':\n",
    "                continue\n",
    "            else:\n",
    "                text_list.append(i)\n",
    "\n",
    "        # Extracting all the necessary details from the pruned text list.\n",
    "        # 1) Aadhar Card No.\n",
    "        aadhar_no_pat = r'^[0-9]{4}\\s[0-9]{4}\\s[0-9]{4}$'\n",
    "        for i in text_list:\n",
    "            if re.match(aadhar_no_pat, i):\n",
    "                self.user_aadhar_no = i\n",
    "            else:\n",
    "                continue\n",
    "\n",
    "        # 2) Gender\n",
    "        aadhar_male_pat = r'(Male|MALE|male)$'\n",
    "        aadhar_female_pat = r'[(Female)(FEMALE)(female)]$'\n",
    "        for i in text_list:\n",
    "            if re.search('(Male|male|MALE)$', i):\n",
    "                self.user_gender = 'MALE'\n",
    "            elif re.search('(Female|FEMALE|female)$', i):\n",
    "                self.user_gender = 'FEMALE'\n",
    "            else:\n",
    "                continue\n",
    "\n",
    "        # 3) DOB\n",
    "        aadhar_dob_pat = r'(Year|Birth|irth|YoB|YOB:|DOB:|DOB)'\n",
    "        date_ele = str()\n",
    "        for idx, i in enumerate(text_list):\n",
    "            if re.search(aadhar_dob_pat, i):\n",
    "                index = re.search(aadhar_dob_pat, i).span()[1]\n",
    "                date_ele = i\n",
    "                dob_idx = idx\n",
    "            else:\n",
    "                continue\n",
    "\n",
    "        date_str=''\n",
    "        for i in date_ele[index:]:\n",
    "            if re.match(r'\\d', i):\n",
    "                date_str = date_str+i\n",
    "            elif re.match(r'/', i):\n",
    "                date_str = date_str+i\n",
    "            else:\n",
    "                continue\n",
    "        self.user_dob = date_str\n",
    "\n",
    "        # 4) Name\n",
    "        self.user_name = text_list[dob_idx-1]\n",
    "        \n",
    "        return [self.user_aadhar_no, self.user_gender, self.user_dob, self.user_name]\n",
    "        \n",
    "    \n",
    "    def commit_changes(self, aadhar_no, gender, dob, name):\n",
    "        # Commit details to a mysql database\n",
    "        # Change the 'database' attribute in the line below to match your database and make sure that the server is running before executing this code.\n",
    "        mydb = mc.connect(host='localhost', user='root', passwd='root', database='fyp_aadhar')\n",
    "        mycursor = mydb.cursor()\n",
    "\n",
    "        # Make sure that the table, attribute names match the ones in your database.\n",
    "        insert_query = \"Insert into card_details(card_no, gender, dob, name) values(%s, %s, %s, %s)\"\n",
    "        card_details = (aadhar_no, gender, dob, name)\n",
    "\n",
    "        mycursor.execute(insert_query, card_details)\n",
    "\n",
    "        mydb.commit()"
   ]
  },
  {
   "cell_type": "code",
   "execution_count": 4,
   "metadata": {},
   "outputs": [],
   "source": [
    "detector = Aadhar_OCR(img_path='image.png')\n",
    "data = detector.extract_data()"
   ]
  },
  {
   "cell_type": "code",
   "execution_count": 5,
   "metadata": {},
   "outputs": [
    {
     "data": {
      "text/plain": [
       "['0000 1111 2222', 'MALE', '', 'XXXXXXXXXXX']"
      ]
     },
     "execution_count": 5,
     "metadata": {},
     "output_type": "execute_result"
    }
   ],
   "source": [
    "data"
   ]
  }
 ],
 "metadata": {
  "kernelspec": {
   "display_name": "fn",
   "language": "python",
   "name": "python3"
  },
  "language_info": {
   "codemirror_mode": {
    "name": "ipython",
    "version": 3
   },
   "file_extension": ".py",
   "mimetype": "text/x-python",
   "name": "python",
   "nbconvert_exporter": "python",
   "pygments_lexer": "ipython3",
   "version": "3.10.16"
  }
 },
 "nbformat": 4,
 "nbformat_minor": 2
}
